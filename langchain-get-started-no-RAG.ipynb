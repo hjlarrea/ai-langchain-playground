{
 "cells": [
  {
   "cell_type": "markdown",
   "id": "3013e2a0",
   "metadata": {},
   "source": [
    "## Get Started - Basic example: prompt + model + output parser (Ollama)\n",
    "\n",
    "https://python.langchain.com/docs/expression_language/get_started\n",
    "\n",
    "### Import Modules"
   ]
  },
  {
   "cell_type": "code",
   "execution_count": 1,
   "id": "bae466f7",
   "metadata": {},
   "outputs": [],
   "source": [
    "from langchain.prompts import ChatPromptTemplate\n",
    "from langchain_core.output_parsers import StrOutputParser\n",
    "from langchain_community.chat_models import ChatOllama"
   ]
  },
  {
   "cell_type": "markdown",
   "id": "53c9def5",
   "metadata": {},
   "source": [
    "### Set Up Ollama"
   ]
  },
  {
   "cell_type": "code",
   "execution_count": 2,
   "id": "565b26ee",
   "metadata": {},
   "outputs": [],
   "source": [
    "chat_model = ChatOllama(\n",
    "    model=\"llama2\",\n",
    "    temperature=0.8\n",
    ")"
   ]
  },
  {
   "cell_type": "markdown",
   "id": "fe828959",
   "metadata": {},
   "source": [
    "### Set Up Prompt and Chain"
   ]
  },
  {
   "cell_type": "code",
   "execution_count": 3,
   "id": "17b80fd8",
   "metadata": {},
   "outputs": [],
   "source": [
    "prompt = ChatPromptTemplate.from_template(\"tell me a joke about {topic}\")\n",
    "model = chat_model\n",
    "output_parser = StrOutputParser()\n",
    "\n",
    "chain = prompt | model | output_parser"
   ]
  },
  {
   "cell_type": "markdown",
   "id": "843aaa92",
   "metadata": {},
   "source": [
    "### Run the Chain"
   ]
  },
  {
   "cell_type": "code",
   "execution_count": 4,
   "id": "fb5e1d26",
   "metadata": {},
   "outputs": [
    {
     "data": {
      "text/plain": [
       "'\\nWhy did the ice cream cone go to the party?\\n\\nBecause it was feeling a little \"sweet\" and wanted to \"mix\" things up!'"
      ]
     },
     "execution_count": 4,
     "metadata": {},
     "output_type": "execute_result"
    }
   ],
   "source": [
    "chain.invoke({\"topic\": \"ice  cream\"})"
   ]
  }
 ],
 "metadata": {
  "kernelspec": {
   "display_name": "Python 3 (ipykernel)",
   "language": "python",
   "name": "python3"
  },
  "language_info": {
   "codemirror_mode": {
    "name": "ipython",
    "version": 3
   },
   "file_extension": ".py",
   "mimetype": "text/x-python",
   "name": "python",
   "nbconvert_exporter": "python",
   "pygments_lexer": "ipython3",
   "version": "3.12.1"
  }
 },
 "nbformat": 4,
 "nbformat_minor": 5
}
