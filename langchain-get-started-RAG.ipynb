{
 "cells": [
  {
   "cell_type": "markdown",
   "id": "3013e2a0",
   "metadata": {},
   "source": [
    "## Get Started - RAG Search Example (Ollama)\n",
    "\n",
    "https://python.langchain.com/docs/expression_language/get_started\n",
    "\n",
    "### Import Modules"
   ]
  },
  {
   "cell_type": "code",
   "execution_count": 1,
   "id": "bae466f7",
   "metadata": {},
   "outputs": [],
   "source": [
    "from langchain_community.vectorstores import DocArrayInMemorySearch\n",
    "from langchain_core.output_parsers import StrOutputParser\n",
    "from langchain_core.prompts import ChatPromptTemplate\n",
    "from langchain_core.runnables import RunnableParallel, RunnablePassthrough\n",
    "from langchain_community.chat_models import ChatOllama\n",
    "from langchain_community.embeddings import OllamaEmbeddings"
   ]
  },
  {
   "cell_type": "markdown",
   "id": "53c9def5",
   "metadata": {},
   "source": [
    "### Set Up Ollama"
   ]
  },
  {
   "cell_type": "code",
   "execution_count": 2,
   "id": "565b26ee",
   "metadata": {},
   "outputs": [],
   "source": [
    "chat_model = ChatOllama(\n",
    "    model=\"llama2\",\n",
    "    temperature=0.8\n",
    ")"
   ]
  },
  {
   "cell_type": "markdown",
   "id": "fe828959",
   "metadata": {},
   "source": [
    "### Set Up Retriever, Prompt and Chain"
   ]
  },
  {
   "cell_type": "code",
   "execution_count": 3,
   "id": "17b80fd8",
   "metadata": {},
   "outputs": [],
   "source": [
    "vectorstore = DocArrayInMemorySearch.from_texts(\n",
    "    [\"harrison worked at kensho\", \"bears like to eat honey\"],\n",
    "    OllamaEmbeddings(model=\"llama2\")\n",
    ")\n",
    "retriever = vectorstore.as_retriever()\n",
    "\n",
    "template = \"\"\"Answer the question based only on the following context:\n",
    "{context}\n",
    "\n",
    "Question: {question}\n",
    "\"\"\"\n",
    "prompt = ChatPromptTemplate.from_template(template)\n",
    "model = ChatOllama(\n",
    "    model=\"llama2\",\n",
    "    temperature=0.8\n",
    ")\n",
    "output_parser = StrOutputParser()\n",
    "\n",
    "setup_and_retrieval = RunnableParallel(\n",
    "    {\"context\": retriever, \"question\": RunnablePassthrough()}\n",
    ")\n",
    "\n",
    "chain = setup_and_retrieval | prompt | model | output_parser"
   ]
  },
  {
   "cell_type": "markdown",
   "id": "843aaa92",
   "metadata": {},
   "source": [
    "### Run the Chain"
   ]
  },
  {
   "cell_type": "code",
   "execution_count": 4,
   "id": "fb5e1d26",
   "metadata": {},
   "outputs": [
    {
     "data": {
      "text/plain": [
       "'Based on the context provided, Harrison worked at Kensho.'"
      ]
     },
     "execution_count": 4,
     "metadata": {},
     "output_type": "execute_result"
    }
   ],
   "source": [
    "chain.invoke(\"where did harrison work?\")"
   ]
  }
 ],
 "metadata": {
  "kernelspec": {
   "display_name": "Python 3 (ipykernel)",
   "language": "python",
   "name": "python3"
  },
  "language_info": {
   "codemirror_mode": {
    "name": "ipython",
    "version": 3
   },
   "file_extension": ".py",
   "mimetype": "text/x-python",
   "name": "python",
   "nbconvert_exporter": "python",
   "pygments_lexer": "ipython3",
   "version": "3.12.1"
  }
 },
 "nbformat": 4,
 "nbformat_minor": 5
}
