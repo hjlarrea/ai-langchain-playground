{
 "cells": [
  {
   "cell_type": "code",
   "execution_count": 1,
   "id": "b8cc2199-9ac8-4f72-a230-4dff4e26caec",
   "metadata": {},
   "outputs": [],
   "source": [
    "from langchain.callbacks.manager import CallbackManager\n",
    "from langchain.callbacks.streaming_stdout import StreamingStdOutCallbackHandler\n",
    "from langchain.llms import Ollama\n",
    "\n",
    "llm = Ollama(model=\"llama2\")"
   ]
  },
  {
   "cell_type": "code",
   "execution_count": 2,
   "id": "dd1b275e-3fa0-4b89-b135-2ff5a35fcbec",
   "metadata": {},
   "outputs": [
    {
     "data": {
      "text/plain": [
       "'\\nKubernetes (k8s or \"kube\") is an open-source container orchestration system that automates the deployment, scaling, and management of containerized applications. The project was started by Google in 2014 as an extension of their internal container cluster manager, and it has since become one of the most popular and widely-used platform for deploying and managing containerized workloads.\\n\\nThe story of Kubernetes begins in the early 2010s when Google was looking for a way to efficiently manage and scale its own containerized applications. At the time, Google was using a home-grown solution called \"Borg\" to manage its container clusters, but it was becoming increasingly difficult to maintain and scale as the company\\'s application portfolio grew.\\n\\nIn 2014, Google decided to open-source Borg under the name Kubernetes, with the goal of creating a community-driven platform that could be used by other companies and organizations beyond Google\\'s own infrastructure. The project was initially launched as an independent open-source project, but it quickly gained traction and became one of the most popular container orchestration systems in the industry.\\n\\nKubernetes provides a number of key features for managing containerized applications, including:\\n\\n1. Pod management: Kubernetes allows users to define and manage groups of containers, called pods, that can be deployed and scaled independently.\\n2. Replication controllers: Kubernetes provides replication controllers, which ensure that a specified number of replicas (copies) of a pod are running at any given time. This ensures that the application remains available even if one or more instances fail.\\n3. Deployment management: Kubernetes allows users to define and manage deployments, which are the desired state of an application. This includes defining the number of replicas, the container images to use, and other configuration options.\\n4. Services: Kubernetes provides services, which expose a logical hostname and port for accessing a pod\\'s contents. This allows users to easily access their applications without needing to know the details of the underlying infrastructure.\\n5. Networking: Kubernetes provides networking features, such as load balancing and service discovery, that allow containers to communicate with each other and with external services.\\n\\nSince its launch, Kubernetes has become a de facto standard for container orchestration in the industry. It is used by a wide range of organizations, from small startups to large enterprises, and it has been integrated into many popular cloud platforms, including Google Cloud Platform, Amazon Web Services (AWS), and Microsoft Azure.\\n\\nIn addition to its core features, Kubernetes has also spawned a number of related projects and tools that provide additional functionality, such as:\\n\\n1. Docker: A containerization platform that provides a lightweight, portable way to package applications and their dependencies.\\n2. Helm: A package manager for Kubernetes that simplifies the process of installing and managing applications in a Kubernetes cluster.\\n3. kubeadm: A tool for creating and managing Kubernetes clusters, including deploying and upgrading the control plane components.\\n4. kubectl: The command-line tool for interacting with Kubernetes resources, such as pods, services, and deployments.\\n\\nOverall, the story of Kubernetes is one of innovation, collaboration, and rapid adoption in the cloud computing industry. Its success has been driven by its open-source nature, its flexibility and scalability, and its ability to provide a consistent and reliable way to manage containerized applications at scale.'"
      ]
     },
     "execution_count": 2,
     "metadata": {},
     "output_type": "execute_result"
    }
   ],
   "source": [
    "llm(\"Tell me the story of Kubernetes.\")"
   ]
  },
  {
   "cell_type": "code",
   "execution_count": 3,
   "id": "a0f9aa6a-ee52-49d8-a2c9-b44787af7c0d",
   "metadata": {},
   "outputs": [],
   "source": [
    "llm = Ollama(\n",
    "    model=\"llama2\",\n",
    "    callback_manager=CallbackManager([StreamingStdOutCallbackHandler()])\n",
    ")"
   ]
  },
  {
   "cell_type": "code",
   "execution_count": 4,
   "id": "c57a317d",
   "metadata": {},
   "outputs": [
    {
     "name": "stdout",
     "output_type": "stream",
     "text": [
      "\n",
      "Kubernetes is an open-source container orchestration system that was originally designed by Google and donated to the Linux Foundation in 2014. The project was created to provide a standardized way of deploying, managing, and scaling containerized applications in a microservices architecture.\n",
      "\n",
      "The story of Kubernetes begins in the early 2000s when Google first began using containers as a way to package and deploy their applications. At the time, there were no established standards for managing containers across different environments, and Google found that they needed a solution to consistently deploy and manage their containerized applications across their own data centers and cloud providers.\n",
      "\n",
      "To address this challenge, Google developed a tool called \"Boron,\" which was designed to automate the deployment and management of containers. Boron was built on top of the Linux Container Project (LCP), an open-source project that provided a standardized way of packaging applications into containers.\n",
      "\n",
      "In 2014, Google donated Boron to the Linux Foundation, which led to the creation of the Kubernetes project. The name \"Kubernetes\" comes from the Greek word for \"cloud of stars,\" and was chosen to reflect the project's goal of creating a standardized way of deploying and managing containerized applications across multiple environments.\n",
      "\n",
      "The Kubernetes project quickly gained traction, with contributors from Google and other companies such as Red Hat, IBM, and Microsoft joining the effort. In 2015, the project released its first stable version (1.0), which provided a set of core features for deploying and managing containerized applications.\n",
      "\n",
      "Since then, Kubernetes has continued to evolve and expand its capabilities, with new features and tools being added regularly. Today, Kubernetes is widely used by organizations of all sizes to deploy and manage containerized applications in production environments.\n",
      "\n",
      "Some key milestones in the history of Kubernetes include:\n",
      "\n",
      "* 2014: Google donates Boron to the Linux Foundation, leading to the creation of the Kubernetes project.\n",
      "* 2015: The first stable version of Kubernetes (1.0) is released, providing a set of core features for deploying and managing containerized applications.\n",
      "* 2016: The Kubernetes Community Platform is launched, providing a central hub for developers to contribute to the project and share knowledge.\n",
      "* 2017: The first version of the Kubernetes documentation is published, providing detailed guides and tutorials for using the project.\n",
      "* 2018: The Kubernetes conference series is launched, providing a forum for developers and users to share experiences and best practices.\n",
      "\n",
      "Today, Kubernetes is widely adopted by organizations in industries such as finance, healthcare, retail, and more. It is also the basis for many other container orchestration tools and platforms, such as Docker Swarm and AWS Elastic Container Service (ECS)."
     ]
    },
    {
     "data": {
      "text/plain": [
       "'\\nKubernetes is an open-source container orchestration system that was originally designed by Google and donated to the Linux Foundation in 2014. The project was created to provide a standardized way of deploying, managing, and scaling containerized applications in a microservices architecture.\\n\\nThe story of Kubernetes begins in the early 2000s when Google first began using containers as a way to package and deploy their applications. At the time, there were no established standards for managing containers across different environments, and Google found that they needed a solution to consistently deploy and manage their containerized applications across their own data centers and cloud providers.\\n\\nTo address this challenge, Google developed a tool called \"Boron,\" which was designed to automate the deployment and management of containers. Boron was built on top of the Linux Container Project (LCP), an open-source project that provided a standardized way of packaging applications into containers.\\n\\nIn 2014, Google donated Boron to the Linux Foundation, which led to the creation of the Kubernetes project. The name \"Kubernetes\" comes from the Greek word for \"cloud of stars,\" and was chosen to reflect the project\\'s goal of creating a standardized way of deploying and managing containerized applications across multiple environments.\\n\\nThe Kubernetes project quickly gained traction, with contributors from Google and other companies such as Red Hat, IBM, and Microsoft joining the effort. In 2015, the project released its first stable version (1.0), which provided a set of core features for deploying and managing containerized applications.\\n\\nSince then, Kubernetes has continued to evolve and expand its capabilities, with new features and tools being added regularly. Today, Kubernetes is widely used by organizations of all sizes to deploy and manage containerized applications in production environments.\\n\\nSome key milestones in the history of Kubernetes include:\\n\\n* 2014: Google donates Boron to the Linux Foundation, leading to the creation of the Kubernetes project.\\n* 2015: The first stable version of Kubernetes (1.0) is released, providing a set of core features for deploying and managing containerized applications.\\n* 2016: The Kubernetes Community Platform is launched, providing a central hub for developers to contribute to the project and share knowledge.\\n* 2017: The first version of the Kubernetes documentation is published, providing detailed guides and tutorials for using the project.\\n* 2018: The Kubernetes conference series is launched, providing a forum for developers and users to share experiences and best practices.\\n\\nToday, Kubernetes is widely adopted by organizations in industries such as finance, healthcare, retail, and more. It is also the basis for many other container orchestration tools and platforms, such as Docker Swarm and AWS Elastic Container Service (ECS).'"
      ]
     },
     "execution_count": 4,
     "metadata": {},
     "output_type": "execute_result"
    }
   ],
   "source": [
    "llm(\"Tell me the story of Kubernetes.\")"
   ]
  },
  {
   "cell_type": "code",
   "execution_count": null,
   "id": "95c11c26",
   "metadata": {},
   "outputs": [],
   "source": []
  }
 ],
 "metadata": {
  "kernelspec": {
   "display_name": "Python 3 (ipykernel)",
   "language": "python",
   "name": "python3"
  },
  "language_info": {
   "codemirror_mode": {
    "name": "ipython",
    "version": 3
   },
   "file_extension": ".py",
   "mimetype": "text/x-python",
   "name": "python",
   "nbconvert_exporter": "python",
   "pygments_lexer": "ipython3",
   "version": "3.12.1"
  }
 },
 "nbformat": 4,
 "nbformat_minor": 5
}
