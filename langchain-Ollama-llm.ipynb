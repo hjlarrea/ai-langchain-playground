{
 "cells": [
  {
   "cell_type": "code",
   "execution_count": 10,
   "id": "b8cc2199-9ac8-4f72-a230-4dff4e26caec",
   "metadata": {},
   "outputs": [],
   "source": [
    "from langchain.callbacks.manager import CallbackManager\n",
    "from langchain.callbacks.streaming_stdout import StreamingStdOutCallbackHandler\n",
    "from langchain.llms import Ollama\n",
    "\n",
    "llm = Ollama(model=\"llama2\")"
   ]
  },
  {
   "cell_type": "code",
   "execution_count": 11,
   "id": "dd1b275e-3fa0-4b89-b135-2ff5a35fcbec",
   "metadata": {},
   "outputs": [
    {
     "data": {
      "text/plain": [
       "'\\nKubernetes, also known as \"k8s,\" is an open-source container orchestration system that automates the deployment, scaling, and management of microservices in modern software systems. The project was started by Google in 2014 and is now maintained by the Cloud Native Computing Foundation (CNCF).\\n\\nThe story of Kubernetes begins with a group of engineers at Google who were frustrated with the lack of tools available to manage their growing fleet of containers. At the time, containerization was still a relatively new technology, and there were few tools on the market that could handle the complexities of deploying and managing multiple containers across a distributed infrastructure.\\n\\nThe team at Google set out to create a solution that would automate many of the manual processes involved in deploying and managing containers. They drew inspiration from the Git version control system, which had already proven itself as a powerful tool for managing code changes across a distributed network of developers. The team wanted to create a similar system for managing containers, one that could handle the complexities of scaling and managing containerized applications in a production environment.\\n\\nThe result was Kubernetes, a container orchestration system that could handle everything from simple deployments to complex, highly available production environments. Kubernetes introduced a number of innovations that made it stand out from other container orchestration systems at the time, including:\\n\\n1. Decoupling: Kubernetes decouples the application code from the infrastructure on which it runs, allowing developers to focus solely on writing code without worrying about managing the underlying infrastructure.\\n2. Automatic scaling: Kubernetes automatically scales containerized applications based on resource utilization, ensuring that the application can scale up or down as needed to handle changes in demand.\\n3. Self-healing: Kubernetes includes self-healing capabilities, which allow it to automatically detect and repair failures within the cluster without requiring manual intervention.\\n4. Flexible storage: Kubernetes supports a variety of storage options, including local storage, object stores, and distributed file systems, allowing developers to choose the storage solution that best fits their needs.\\n5. Extensibility: Kubernetes is highly extensible, with a large ecosystem of plugins and integrations available to handle everything from networking to security to monitoring and logging.\\n\\nSince its inception, Kubernetes has grown rapidly in popularity, with thousands of companies using it to manage their containerized applications. Today, Kubernetes is widely recognized as the de facto standard for container orchestration, and it continues to evolve and improve with each new release.\\n\\nIn addition to its use in production environments, Kubernetes has also played a key role in the development of many open-source projects, including Docker, which provides the underlying containerization technology for Kubernetes. The project\\'s success has also spawned a number of related projects, such as OpenShift, which provides a commercial version of Kubernetes with additional features and support, and Helm, which simplifies the process of installing and managing Kubernetes applications.\\n\\nOverall, the story of Kubernetes is one of innovation, collaboration, and the drive to solve complex problems in software development. Its success has transformed the way developers build and deploy applications, and it continues to be a driving force in the evolution of cloud computing and modern software systems.'"
      ]
     },
     "execution_count": 11,
     "metadata": {},
     "output_type": "execute_result"
    }
   ],
   "source": [
    "llm(\"Tell me the story of Kubernetes.\")"
   ]
  },
  {
   "cell_type": "code",
   "execution_count": 12,
   "id": "a0f9aa6a-ee52-49d8-a2c9-b44787af7c0d",
   "metadata": {},
   "outputs": [],
   "source": [
    "llm = Ollama(\n",
    "    model=\"llama2\",\n",
    "    callback_manager=CallbackManager([StreamingStdOutCallbackHandler()])\n",
    ")"
   ]
  },
  {
   "cell_type": "code",
   "execution_count": 13,
   "id": "c57a317d",
   "metadata": {},
   "outputs": [
    {
     "name": "stdout",
     "output_type": "stream",
     "text": [
      "\n",
      "Kubernetes is an open-source container orchestration platform that was originally designed by Google in 2014 and is now maintained by the Cloud Native Computing Foundation (CNCF). The story of Kubernetes begins with the need for a scalable and flexible platform to manage containers in large-scale production environments.\n",
      "\n",
      "In the early 2000s, Google was faced with the challenge of managing a large number of web servers running applications like Gmail and Google Search. They needed a way to easily deploy, scale, and manage these applications across multiple machines, without having to manually configure each server individually.\n",
      "\n",
      "To solve this problem, Google developed a new platform called \"Borg,\" which was designed specifically for managing large-scale containerized applications. Borg used a master-slave architecture, where the master node coordinated the deployment and management of containers across multiple worker nodes. This approach allowed Google to easily scale their applications up or down as needed, without requiring manual intervention.\n",
      "\n",
      "In 2014, Google open-sourced Borg under the name \"Kubernetes,\" which is a portmanteau of \"kubernetes\" and \"mitosis,\" referring to the way in which cells divide in biology. The Kubernetes project quickly gained popularity among developers and companies, who saw the potential for the platform to manage containers across multiple environments, including on-premises data centers and cloud providers like Amazon Web Services (AWS) and Microsoft Azure.\n",
      "\n",
      "Since its inception, Kubernetes has undergone significant development and growth. Here are some key milestones in the history of Kubernetes:\n",
      "\n",
      "1. 2014: Google open-sources Borg under the name \"Kubernetes.\"\n",
      "2. 2015: The Cloud Native Computing Foundation (CNCF) is established to promote and maintain Kubernetes and other cloud-native technologies.\n",
      "3. 2016: Kubernetes v1.0 is released, marking the first stable version of the platform.\n",
      "4. 2017: Kubernetes becomes a top-level project under CNCF, with Google, IBM, and Microsoft serving as founding members.\n",
      "5. 2018: The Kubernetes Community Platform (KCP) is launched to provide a centralized location for users to access Kubernetes documentation, training materials, and community resources.\n",
      "6. 2019: Kubernetes v1.14 is released with new features like improved network policies and enhanced security capabilities.\n",
      "7. Present day: Kubernetes continues to evolve and expand its feature set, with support for new technologies like serverless computing and machine learning.\n",
      "\n",
      "Throughout its history, Kubernetes has been driven by a vibrant community of developers, engineers, and users who contribute to the platform through open-source development, bug reporting, and feature requests. This collaborative approach has helped Kubernetes become one of the most popular and widely-used container orchestration platforms in the world.\n",
      "\n",
      "In summary, Kubernetes is an open-source container orchestration platform that was originally developed by Google to manage large-scale containerized applications. It has since been open-sourced and maintained by the Cloud Native Computing Foundation (CNCF), with a vibrant community of developers and users contributing to its growth and development. Today, Kubernetes is widely used in production environments across the globe, and continues to evolve and expand its feature set to meet the needs of modern cloud-native applications."
     ]
    },
    {
     "data": {
      "text/plain": [
       "'\\nKubernetes is an open-source container orchestration platform that was originally designed by Google in 2014 and is now maintained by the Cloud Native Computing Foundation (CNCF). The story of Kubernetes begins with the need for a scalable and flexible platform to manage containers in large-scale production environments.\\n\\nIn the early 2000s, Google was faced with the challenge of managing a large number of web servers running applications like Gmail and Google Search. They needed a way to easily deploy, scale, and manage these applications across multiple machines, without having to manually configure each server individually.\\n\\nTo solve this problem, Google developed a new platform called \"Borg,\" which was designed specifically for managing large-scale containerized applications. Borg used a master-slave architecture, where the master node coordinated the deployment and management of containers across multiple worker nodes. This approach allowed Google to easily scale their applications up or down as needed, without requiring manual intervention.\\n\\nIn 2014, Google open-sourced Borg under the name \"Kubernetes,\" which is a portmanteau of \"kubernetes\" and \"mitosis,\" referring to the way in which cells divide in biology. The Kubernetes project quickly gained popularity among developers and companies, who saw the potential for the platform to manage containers across multiple environments, including on-premises data centers and cloud providers like Amazon Web Services (AWS) and Microsoft Azure.\\n\\nSince its inception, Kubernetes has undergone significant development and growth. Here are some key milestones in the history of Kubernetes:\\n\\n1. 2014: Google open-sources Borg under the name \"Kubernetes.\"\\n2. 2015: The Cloud Native Computing Foundation (CNCF) is established to promote and maintain Kubernetes and other cloud-native technologies.\\n3. 2016: Kubernetes v1.0 is released, marking the first stable version of the platform.\\n4. 2017: Kubernetes becomes a top-level project under CNCF, with Google, IBM, and Microsoft serving as founding members.\\n5. 2018: The Kubernetes Community Platform (KCP) is launched to provide a centralized location for users to access Kubernetes documentation, training materials, and community resources.\\n6. 2019: Kubernetes v1.14 is released with new features like improved network policies and enhanced security capabilities.\\n7. Present day: Kubernetes continues to evolve and expand its feature set, with support for new technologies like serverless computing and machine learning.\\n\\nThroughout its history, Kubernetes has been driven by a vibrant community of developers, engineers, and users who contribute to the platform through open-source development, bug reporting, and feature requests. This collaborative approach has helped Kubernetes become one of the most popular and widely-used container orchestration platforms in the world.\\n\\nIn summary, Kubernetes is an open-source container orchestration platform that was originally developed by Google to manage large-scale containerized applications. It has since been open-sourced and maintained by the Cloud Native Computing Foundation (CNCF), with a vibrant community of developers and users contributing to its growth and development. Today, Kubernetes is widely used in production environments across the globe, and continues to evolve and expand its feature set to meet the needs of modern cloud-native applications.'"
      ]
     },
     "execution_count": 13,
     "metadata": {},
     "output_type": "execute_result"
    }
   ],
   "source": [
    "llm(\"Tell me the story of Kubernetes.\")"
   ]
  },
  {
   "cell_type": "code",
   "execution_count": null,
   "id": "95c11c26",
   "metadata": {},
   "outputs": [],
   "source": []
  }
 ],
 "metadata": {
  "kernelspec": {
   "display_name": "Python 3 (ipykernel)",
   "language": "python",
   "name": "python3"
  },
  "language_info": {
   "codemirror_mode": {
    "name": "ipython",
    "version": 3
   },
   "file_extension": ".py",
   "mimetype": "text/x-python",
   "name": "python",
   "nbconvert_exporter": "python",
   "pygments_lexer": "ipython3",
   "version": "3.12.1"
  }
 },
 "nbformat": 4,
 "nbformat_minor": 5
}
